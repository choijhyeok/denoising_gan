{
 "cells": [
  {
   "cell_type": "markdown",
   "metadata": {},
   "source": [
    "# FID 정량적인 평가방법 // 여태까지는 정량적인 확인 방법이 없었음\n",
    "# 참고 논문\n",
    "# https://arxiv.org/pdf/1706.08500.pdf"
   ]
  },
  {
   "cell_type": "markdown",
   "metadata": {},
   "source": [
    "![inception_image](https://drive.google.com/uc?export=download&id=1OQhNXMpXNNhbM9Nem3QoM51uqvnqrN1b)"
   ]
  },
  {
   "cell_type": "markdown",
   "metadata": {},
   "source": [
    "#### 2048 개의 특성을 inception model이 특성을 뽑고"
   ]
  },
  {
   "cell_type": "markdown",
   "metadata": {},
   "source": [
    "![image.png](https://drive.google.com/uc?export=download&id=1tSzyooHzoFmdzZDg_6RxOplL1_QLRbX_)"
   ]
  },
  {
   "cell_type": "markdown",
   "metadata": {},
   "source": [
    "#### m : Real 데이터의 특성 평균\n",
    "#### c : Real 데이터의 특성 공분산\n",
    "#### mw : Fake 데이터의 특성 평균\n",
    "#### Cw : Fake 데이터의 공분산\n",
    "\n",
    "\n",
    "#### 이것은 가우시안 분포를 따름 (이것이 전제)\n",
    "\n",
    "#### 실제 이미지의 가우시안 분포와\n",
    "#### fake 이미지의 가우시안 분포의 거리 차이를 계산한 것이 FID"
   ]
  },
  {
   "cell_type": "markdown",
   "metadata": {},
   "source": [
    "# 가우시안 best fid"
   ]
  },
  {
   "cell_type": "code",
   "execution_count": null,
   "metadata": {},
   "outputs": [],
   "source": [
    "#FID를 계산하는것\n",
    "import numpy as np\n",
    "max = 1000\n",
    "num = 0\n",
    "for i in range(79,4684,1):\n",
    "    # 원본 이미지\n",
    "    img = np.array(Image.open('D:/noisy/gaussian/real/{}.png'.format(i)))\n",
    "    # 만들어낸 이미지\n",
    "    img2 = np.array(Image.open('D:/noisy/gaussian/output/{}.png'.format(i)))\n",
    "\n",
    "    fid = calculate_fid_given_paths(\n",
    "           paths = [\n",
    "          img,   #real\n",
    "          img2   #False\n",
    "      ],\n",
    "        batch_size = 1,\n",
    "        cuda=True,\n",
    "        dims=2048\n",
    "    )\n",
    "    if(fid<=100):\n",
    "        max = fid\n",
    "        num = i\n",
    "        break;\n",
    "    elif(fid<max):\n",
    "        max = fid\n",
    "        num = i\n",
    "print(\"fid score = {}, i = {}\".format(max,num))"
   ]
  },
  {
   "cell_type": "code",
   "execution_count": 44,
   "metadata": {},
   "outputs": [
    {
     "name": "stdout",
     "output_type": "stream",
     "text": [
      "fid score = 123.8570279249239, i = 340\n"
     ]
    }
   ],
   "source": [
    "print(\"fid score = {}, i = {}\".format(max,num))"
   ]
  },
  {
   "cell_type": "code",
   "execution_count": 42,
   "metadata": {},
   "outputs": [
    {
     "name": "stdout",
     "output_type": "stream",
     "text": [
      "fid score = 209.18918050071727, i = 373\n"
     ]
    }
   ],
   "source": [
    "print(\"fid score = {}, i = {}\".format(max,num))"
   ]
  },
  {
   "cell_type": "code",
   "execution_count": 32,
   "metadata": {},
   "outputs": [
    {
     "name": "stdout",
     "output_type": "stream",
     "text": [
      "fid score = 117.02885796147592, i = 78\n"
     ]
    }
   ],
   "source": [
    "print(\"fid score = {}, i = {}\".format(max,num))"
   ]
  },
  {
   "cell_type": "code",
   "execution_count": null,
   "metadata": {},
   "outputs": [],
   "source": [
    "fid score = 117.02885796147592, i = 78"
   ]
  },
  {
   "cell_type": "markdown",
   "metadata": {},
   "source": [
    "# salt&paper best fid"
   ]
  },
  {
   "cell_type": "code",
   "execution_count": null,
   "metadata": {},
   "outputs": [],
   "source": [
    "#FID를 계산하는것\n",
    "import numpy as np\n",
    "max = 0\n",
    "num = 0\n",
    "for i in range(4684):\n",
    "    # 원본 이미지\n",
    "    img = np.array(Image.open('D:/noisy/salt&paper/real/{}.png'.format(i)))\n",
    "    # 만들어낸 이미지\n",
    "    img2 = np.array(Image.open('D:/noisy/salt&paper/output/{}.png'.format(i)))\n",
    "\n",
    "    fid = calculate_fid_given_paths(\n",
    "           paths = [\n",
    "          img,   #real\n",
    "          img2   #False\n",
    "      ],\n",
    "        batch_size = 1,\n",
    "        cuda=True,\n",
    "        dims=2048\n",
    "    )\n",
    "    if(fid<=100):\n",
    "        max = fid\n",
    "        num = i\n",
    "        break;\n",
    "print(\"fid score = {}, i = {}\".format(max,num))"
   ]
  },
  {
   "cell_type": "markdown",
   "metadata": {},
   "source": [
    "fid score = 98.39713231911801, i = 2"
   ]
  },
  {
   "cell_type": "markdown",
   "metadata": {},
   "source": [
    "# speckle best fid"
   ]
  },
  {
   "cell_type": "code",
   "execution_count": null,
   "metadata": {},
   "outputs": [],
   "source": [
    "#FID를 계산하는것\n",
    "import numpy as np\n",
    "max = 1000\n",
    "num = 0\n",
    "for i in range(373,374,1):\n",
    "    # 원본 이미지\n",
    "    img = np.array(Image.open('D:/noisy/poisson/real/{}.png'.format(i)))\n",
    "    # 만들어낸 이미지\n",
    "    img2 = np.array(Image.open('D:/noisy/poisson/output/{}.png'.format(i)))\n",
    "\n",
    "    fid = calculate_fid_given_paths(\n",
    "           paths = [\n",
    "          img,   #real\n",
    "          img2   #False\n",
    "      ],\n",
    "        batch_size = 1,\n",
    "        cuda=True,\n",
    "        dims=2048\n",
    "    )\n",
    "    if(fid<=100):\n",
    "        max = fid\n",
    "        num = i\n",
    "        break;\n",
    "    elif(fid<max):\n",
    "        max = fid\n",
    "        num = i\n",
    "print(\"fid score = {}, i = {}\".format(max,num))"
   ]
  },
  {
   "cell_type": "code",
   "execution_count": 41,
   "metadata": {},
   "outputs": [
    {
     "name": "stdout",
     "output_type": "stream",
     "text": [
      "fid score = 209.18918050071727, i = 373\n"
     ]
    }
   ],
   "source": [
    "print(\"fid score = {}, i = {}\".format(max,num))"
   ]
  },
  {
   "cell_type": "code",
   "execution_count": 34,
   "metadata": {},
   "outputs": [
    {
     "name": "stdout",
     "output_type": "stream",
     "text": [
      "fid score = 111.70172895343161, i = 16\n"
     ]
    }
   ],
   "source": [
    "print(\"fid score = {}, i = {}\".format(max,num))"
   ]
  },
  {
   "cell_type": "markdown",
   "metadata": {},
   "source": [
    "### 모든 이미지에 대해 FID가 고르게 작지 않지만 특정이미지에서는 FID가 작게 나오는 것을 볼수있다."
   ]
  }
 ],
 "metadata": {
  "kernelspec": {
   "display_name": "Python 3",
   "language": "python",
   "name": "python3"
  },
  "language_info": {
   "codemirror_mode": {
    "name": "ipython",
    "version": 3
   },
   "file_extension": ".py",
   "mimetype": "text/x-python",
   "name": "python",
   "nbconvert_exporter": "python",
   "pygments_lexer": "ipython3",
   "version": "3.8.5"
  }
 },
 "nbformat": 4,
 "nbformat_minor": 4
}
